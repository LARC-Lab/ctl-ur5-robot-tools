{
 "cells": [
  {
   "cell_type": "code",
   "execution_count": 1,
   "metadata": {},
   "outputs": [],
   "source": [
    "import requests\n",
    "import numpy as np\n",
    "from matplotlib import pyplot as plt\n",
    "import sys\n",
    "import os\n",
    "import math"
   ]
  },
  {
   "cell_type": "code",
   "execution_count": 2,
   "metadata": {},
   "outputs": [],
   "source": [
    "current_dir = os.path.dirname(os.path.abspath('examples'))\n",
    "sys.path.append(os.path.join(current_dir, 'robotiq'))\n",
    "from utils.UR_Functions import URfunctions as URControl\n",
    "from robotiq.robotiq_gripper import RobotiqGripper"
   ]
  },
  {
   "cell_type": "code",
   "execution_count": 4,
   "metadata": {},
   "outputs": [],
   "source": [
    "def degreestorad(list):\n",
    "     for i in range(6):\n",
    "          list[i]=list[i]*(math.pi/180)\n",
    "     return(list)    "
   ]
  },
  {
   "cell_type": "code",
   "execution_count": 5,
   "metadata": {},
   "outputs": [
    {
     "name": "stdout",
     "output_type": "stream",
     "text": [
      "Connected to robot\n",
      "Gripper auto-calibrated to [3, 248]\n"
     ]
    }
   ],
   "source": [
    "robot = URControl(ip=\"192.168.0.2\", port=30003)\n",
    "gripper=RobotiqGripper()\n",
    "gripper.connect(\"192.168.0.2\", 63352)\n",
    "gripper.activate()"
   ]
  },
  {
   "cell_type": "code",
   "execution_count": 9,
   "metadata": {},
   "outputs": [],
   "source": [
    "#move to start state\n",
    "gripper.move(0,125,125)\n",
    "joint_state = [0.00000744, -1.57083954, 1.57082969, -1.57077511, -1.57079918, -0.00003463]\n",
    "robot.move_joint_list(joint_state, 0.25, 0.5, 0.02)"
   ]
  },
  {
   "cell_type": "code",
   "execution_count": 7,
   "metadata": {},
   "outputs": [],
   "source": [
    "#move and pick up vial 1\n",
    "joint_state = degreestorad([-5.61,-83.95,112.70,-119.79,-90.07,-5.48])\n",
    "robot.move_joint_list(joint_state, 0.25, 0.5, 0.02)\n",
    "gripper.move(255,125,125)\n",
    "joint_state = degreestorad([-5.61,-88.51,105.96,-107.5,-90.03,-5.53])\n",
    "robot.move_joint_list(joint_state, 0.25, 0.5, 0.02)"
   ]
  },
  {
   "cell_type": "code",
   "execution_count": 12,
   "metadata": {},
   "outputs": [],
   "source": [
    "#pick up vial 2\n",
    "joint_state = degreestorad([-1.37,-83.69,111.69,-118.03,-90.07,-1.24])\n",
    "robot.move_joint_list(joint_state, 0.25, 0.5, 0.02)\n",
    "gripper.move(255,125,125)\n",
    "joint_state = [-0.02380783, -1.53301641,  1.81360704, -1.85189833, -1.57132942, -0.02249176]\n",
    "robot.move_joint_list(joint_state, 0.25, 0.5, 0.02)"
   ]
  },
  {
   "cell_type": "code",
   "execution_count": 14,
   "metadata": {},
   "outputs": [
    {
     "name": "stdout",
     "output_type": "stream",
     "text": [
      "[-0.06971866 -1.50937307  1.84992677 -1.94247594 -1.57164127 -0.06830389]\n"
     ]
    }
   ],
   "source": [
    "print(robot.get_current_joint_positions().tolist())"
   ]
  },
  {
   "cell_type": "code",
   "execution_count": 11,
   "metadata": {},
   "outputs": [
    {
     "data": {
      "text/plain": [
       "(True, 3)"
      ]
     },
     "execution_count": 11,
     "metadata": {},
     "output_type": "execute_result"
    }
   ],
   "source": [
    "#place vial 1 in slot 2\n",
    "joint_state = degreestorad([-1.36,-88.22,102.71,-104.52,-90.03,-1.29])\n",
    "robot.move_joint_list(joint_state, 0.25, 0.5, 0.02)\n",
    "joint_state = degreestorad([-1.37,-83.69,111.69,-118.03,-90.07,-1.24])\n",
    "robot.move_joint_list(joint_state, 0.25, 0.5, 0.02)\n",
    "gripper.move(0,125,125)"
   ]
  },
  {
   "cell_type": "code",
   "execution_count": 13,
   "metadata": {},
   "outputs": [
    {
     "ename": "KeyboardInterrupt",
     "evalue": "",
     "output_type": "error",
     "traceback": [
      "\u001b[0;31m---------------------------------------------------------------------------\u001b[0m",
      "\u001b[0;31mKeyboardInterrupt\u001b[0m                         Traceback (most recent call last)",
      "Cell \u001b[0;32mIn[13], line 5\u001b[0m\n\u001b[1;32m      3\u001b[0m robot\u001b[38;5;241m.\u001b[39mmove_joint_list(joint_state, \u001b[38;5;241m0.25\u001b[39m, \u001b[38;5;241m0.5\u001b[39m, \u001b[38;5;241m0.02\u001b[39m)\n\u001b[1;32m      4\u001b[0m joint_state \u001b[38;5;241m=\u001b[39m degreestorad([\u001b[38;5;241m-\u001b[39m\u001b[38;5;241m5.61\u001b[39m,\u001b[38;5;241m-\u001b[39m\u001b[38;5;241m83.95\u001b[39m,\u001b[38;5;241m112.70\u001b[39m,\u001b[38;5;241m-\u001b[39m\u001b[38;5;241m119.79\u001b[39m,\u001b[38;5;241m-\u001b[39m\u001b[38;5;241m90.07\u001b[39m,\u001b[38;5;241m-\u001b[39m\u001b[38;5;241m5.48\u001b[39m])\n\u001b[0;32m----> 5\u001b[0m \u001b[43mrobot\u001b[49m\u001b[38;5;241;43m.\u001b[39;49m\u001b[43mmove_joint_list\u001b[49m\u001b[43m(\u001b[49m\u001b[43mjoint_state\u001b[49m\u001b[43m,\u001b[49m\u001b[43m \u001b[49m\u001b[38;5;241;43m0.25\u001b[39;49m\u001b[43m,\u001b[49m\u001b[43m \u001b[49m\u001b[38;5;241;43m0.5\u001b[39;49m\u001b[43m,\u001b[49m\u001b[43m \u001b[49m\u001b[38;5;241;43m0.02\u001b[39;49m\u001b[43m)\u001b[49m\n\u001b[1;32m      6\u001b[0m gripper\u001b[38;5;241m.\u001b[39mmove(\u001b[38;5;241m0\u001b[39m,\u001b[38;5;241m125\u001b[39m,\u001b[38;5;241m125\u001b[39m)\n\u001b[1;32m      7\u001b[0m joint_state \u001b[38;5;241m=\u001b[39m degreestorad([\u001b[38;5;241m-\u001b[39m\u001b[38;5;241m5.61\u001b[39m,\u001b[38;5;241m-\u001b[39m\u001b[38;5;241m88.51\u001b[39m,\u001b[38;5;241m105.96\u001b[39m,\u001b[38;5;241m-\u001b[39m\u001b[38;5;241m107.5\u001b[39m,\u001b[38;5;241m-\u001b[39m\u001b[38;5;241m90.03\u001b[39m,\u001b[38;5;241m-\u001b[39m\u001b[38;5;241m5.53\u001b[39m])\n",
      "File \u001b[0;32m~/ctl-ur5-robot-tools/examples/utils/UR_Functions.py:104\u001b[0m, in \u001b[0;36mURfunctions.move_joint_list\u001b[0;34m(self, q, v, a, r)\u001b[0m\n\u001b[1;32m    102\u001b[0m tcp_command \u001b[38;5;241m+\u001b[39m\u001b[38;5;241m=\u001b[39m \u001b[38;5;124m\"\u001b[39m\u001b[38;5;124mend\u001b[39m\u001b[38;5;130;01m\\n\u001b[39;00m\u001b[38;5;124m\"\u001b[39m\n\u001b[1;32m    103\u001b[0m \u001b[38;5;28mself\u001b[39m\u001b[38;5;241m.\u001b[39msk\u001b[38;5;241m.\u001b[39msend(\u001b[38;5;28mstr\u001b[39m\u001b[38;5;241m.\u001b[39mencode(tcp_command))\n\u001b[0;32m--> 104\u001b[0m \u001b[38;5;28;43mself\u001b[39;49m\u001b[38;5;241;43m.\u001b[39;49m\u001b[43mwait_for_target_joints\u001b[49m\u001b[43m(\u001b[49m\u001b[43mq\u001b[49m\u001b[43m)\u001b[49m\n\u001b[1;32m    105\u001b[0m \u001b[38;5;28mself\u001b[39m\u001b[38;5;241m.\u001b[39mclose_connection()\n",
      "File \u001b[0;32m~/ctl-ur5-robot-tools/examples/utils/UR_Functions.py:110\u001b[0m, in \u001b[0;36mURfunctions.wait_for_target_joints\u001b[0;34m(self, target_joints, tol)\u001b[0m\n\u001b[1;32m    108\u001b[0m actual_joints \u001b[38;5;241m=\u001b[39m \u001b[38;5;28mself\u001b[39m\u001b[38;5;241m.\u001b[39mget_current_joint_positions()\n\u001b[1;32m    109\u001b[0m \u001b[38;5;28;01mwhile\u001b[39;00m \u001b[38;5;129;01mnot\u001b[39;00m \u001b[38;5;28mall\u001b[39m(np\u001b[38;5;241m.\u001b[39mabs(actual_joints \u001b[38;5;241m-\u001b[39m np\u001b[38;5;241m.\u001b[39marray(target_joints)) \u001b[38;5;241m<\u001b[39m tol):\n\u001b[0;32m--> 110\u001b[0m     \u001b[43msleep\u001b[49m\u001b[43m(\u001b[49m\u001b[38;5;241;43m0.1\u001b[39;49m\u001b[43m)\u001b[49m\n\u001b[1;32m    111\u001b[0m     actual_joints \u001b[38;5;241m=\u001b[39m \u001b[38;5;28mself\u001b[39m\u001b[38;5;241m.\u001b[39mget_current_joint_positions()\n",
      "\u001b[0;31mKeyboardInterrupt\u001b[0m: "
     ]
    }
   ],
   "source": [
    "#placevial2 in slot 1\n",
    "joint_state = [0.00000744, -1.57083954, 1.57082969, -1.57077511, -1.57079918, -0.00003463]\n",
    "robot.move_joint_list(joint_state, 0.25, 0.5, 0.02)\n",
    "joint_state = degreestorad([-5.61,-83.95,112.70,-119.79,-90.07,-5.48])\n",
    "robot.move_joint_list(joint_state, 0.25, 0.5, 0.02)\n",
    "gripper.move(0,125,125)\n",
    "joint_state = degreestorad([-5.61,-88.51,105.96,-107.5,-90.03,-5.53])\n",
    "robot.move_joint_list(joint_state, 0.25, 0.5, 0.02)"
   ]
  }
 ],
 "metadata": {
  "kernelspec": {
   "display_name": "Python 3",
   "language": "python",
   "name": "python3"
  },
  "language_info": {
   "codemirror_mode": {
    "name": "ipython",
    "version": 3
   },
   "file_extension": ".py",
   "mimetype": "text/x-python",
   "name": "python",
   "nbconvert_exporter": "python",
   "pygments_lexer": "ipython3",
   "version": "3.10.13"
  }
 },
 "nbformat": 4,
 "nbformat_minor": 2
}
